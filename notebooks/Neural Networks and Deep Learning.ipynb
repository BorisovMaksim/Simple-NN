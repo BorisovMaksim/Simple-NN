{
 "cells": [
  {
   "cell_type": "code",
   "execution_count": 3,
   "id": "c0243a8f-2b03-4846-8058-1b9648152695",
   "metadata": {},
   "outputs": [],
   "source": [
    "import pandas as pd\n",
    "import numpy as np"
   ]
  },
  {
   "cell_type": "code",
   "execution_count": 5,
   "id": "33f35677-5742-4788-9e5b-7ea5ee5b4b85",
   "metadata": {},
   "outputs": [
    {
     "data": {
      "text/plain": [
       "0.6931471805599453"
      ]
     },
     "execution_count": 5,
     "metadata": {},
     "output_type": "execute_result"
    }
   ],
   "source": [
    "np.log(2)"
   ]
  },
  {
   "cell_type": "code",
   "execution_count": 7,
   "id": "012b97b7-04a8-49cd-8c9d-b253b68906ff",
   "metadata": {},
   "outputs": [
    {
     "data": {
      "text/plain": [
       "(2, 2, 1)"
      ]
     },
     "execution_count": 7,
     "metadata": {},
     "output_type": "execute_result"
    }
   ],
   "source": [
    "np.array([[[1],[2]],[[3],[4]]]).shape"
   ]
  },
  {
   "cell_type": "code",
   "execution_count": 10,
   "id": "ba8a0f7a-3048-4afe-87cb-a9d9f79905a8",
   "metadata": {},
   "outputs": [],
   "source": [
    "a=np.random.randn(4,3) # a.shape = (4, 3)a.shape=(4,3)\n",
    "\n",
    "b = np.random.randn(1, 3)\n",
    "b=np.random.randn(1,3) # b.shape = (1, 3)b.shape=(1,3)\n",
    "\n",
    "c = a*b\n",
    "\n"
   ]
  },
  {
   "cell_type": "code",
   "execution_count": 16,
   "id": "f141c3cf-65dd-44d3-8aec-a3004952ab12",
   "metadata": {},
   "outputs": [],
   "source": [
    "a=np.array([[2,1,3],[1,3,3]])\n",
    "a.shape"
   ]
  },
  {
   "cell_type": "code",
   "execution_count": null,
   "id": "3c0dce1d-377a-4822-b9ac-8368e7d6e33c",
   "metadata": {},
   "outputs": [],
   "source": []
  }
 ],
 "metadata": {
  "kernelspec": {
   "display_name": "Python 3 (ipykernel)",
   "language": "python",
   "name": "python3"
  },
  "language_info": {
   "codemirror_mode": {
    "name": "ipython",
    "version": 3
   },
   "file_extension": ".py",
   "mimetype": "text/x-python",
   "name": "python",
   "nbconvert_exporter": "python",
   "pygments_lexer": "ipython3",
   "version": "3.9.5"
  }
 },
 "nbformat": 4,
 "nbformat_minor": 5
}
