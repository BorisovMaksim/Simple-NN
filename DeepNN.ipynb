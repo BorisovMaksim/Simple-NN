{
 "cells": [
  {
   "cell_type": "code",
   "execution_count": 186,
   "id": "70636609-0c99-4d99-8e9a-59eb3872bfc3",
   "metadata": {},
   "outputs": [],
   "source": [
    "import pandas as pd\n",
    "import numpy as np\n",
    "import matplotlib.pyplot as plt\n",
    "from sklearn.datasets import load_digits\n",
    "import copy"
   ]
  },
  {
   "cell_type": "code",
   "execution_count": 187,
   "id": "fac5a2b5-6abd-495e-9159-b7361ee91b4f",
   "metadata": {},
   "outputs": [],
   "source": [
    "digits = load_digits()"
   ]
  },
  {
   "cell_type": "code",
   "execution_count": 198,
   "id": "cab9c74a-53ce-4a22-bd3f-e12759209070",
   "metadata": {},
   "outputs": [
    {
     "data": {
      "text/html": [
       "<div>\n",
       "<style scoped>\n",
       "    .dataframe tbody tr th:only-of-type {\n",
       "        vertical-align: middle;\n",
       "    }\n",
       "\n",
       "    .dataframe tbody tr th {\n",
       "        vertical-align: top;\n",
       "    }\n",
       "\n",
       "    .dataframe thead th {\n",
       "        text-align: right;\n",
       "    }\n",
       "</style>\n",
       "<table border=\"1\" class=\"dataframe\">\n",
       "  <thead>\n",
       "    <tr style=\"text-align: right;\">\n",
       "      <th></th>\n",
       "      <th>0</th>\n",
       "      <th>1</th>\n",
       "      <th>2</th>\n",
       "      <th>3</th>\n",
       "      <th>4</th>\n",
       "      <th>5</th>\n",
       "      <th>6</th>\n",
       "      <th>7</th>\n",
       "      <th>8</th>\n",
       "      <th>9</th>\n",
       "      <th>...</th>\n",
       "      <th>54</th>\n",
       "      <th>55</th>\n",
       "      <th>56</th>\n",
       "      <th>57</th>\n",
       "      <th>58</th>\n",
       "      <th>59</th>\n",
       "      <th>60</th>\n",
       "      <th>61</th>\n",
       "      <th>62</th>\n",
       "      <th>63</th>\n",
       "    </tr>\n",
       "  </thead>\n",
       "  <tbody>\n",
       "    <tr>\n",
       "      <th>0</th>\n",
       "      <td>0.0</td>\n",
       "      <td>0.0</td>\n",
       "      <td>5.0</td>\n",
       "      <td>13.0</td>\n",
       "      <td>9.0</td>\n",
       "      <td>1.0</td>\n",
       "      <td>0.0</td>\n",
       "      <td>0.0</td>\n",
       "      <td>0.0</td>\n",
       "      <td>0.0</td>\n",
       "      <td>...</td>\n",
       "      <td>0.0</td>\n",
       "      <td>0.0</td>\n",
       "      <td>0.0</td>\n",
       "      <td>0.0</td>\n",
       "      <td>6.0</td>\n",
       "      <td>13.0</td>\n",
       "      <td>10.0</td>\n",
       "      <td>0.0</td>\n",
       "      <td>0.0</td>\n",
       "      <td>0.0</td>\n",
       "    </tr>\n",
       "    <tr>\n",
       "      <th>1</th>\n",
       "      <td>0.0</td>\n",
       "      <td>0.0</td>\n",
       "      <td>0.0</td>\n",
       "      <td>12.0</td>\n",
       "      <td>13.0</td>\n",
       "      <td>5.0</td>\n",
       "      <td>0.0</td>\n",
       "      <td>0.0</td>\n",
       "      <td>0.0</td>\n",
       "      <td>0.0</td>\n",
       "      <td>...</td>\n",
       "      <td>0.0</td>\n",
       "      <td>0.0</td>\n",
       "      <td>0.0</td>\n",
       "      <td>0.0</td>\n",
       "      <td>0.0</td>\n",
       "      <td>11.0</td>\n",
       "      <td>16.0</td>\n",
       "      <td>10.0</td>\n",
       "      <td>0.0</td>\n",
       "      <td>0.0</td>\n",
       "    </tr>\n",
       "    <tr>\n",
       "      <th>2</th>\n",
       "      <td>0.0</td>\n",
       "      <td>0.0</td>\n",
       "      <td>0.0</td>\n",
       "      <td>4.0</td>\n",
       "      <td>15.0</td>\n",
       "      <td>12.0</td>\n",
       "      <td>0.0</td>\n",
       "      <td>0.0</td>\n",
       "      <td>0.0</td>\n",
       "      <td>0.0</td>\n",
       "      <td>...</td>\n",
       "      <td>5.0</td>\n",
       "      <td>0.0</td>\n",
       "      <td>0.0</td>\n",
       "      <td>0.0</td>\n",
       "      <td>0.0</td>\n",
       "      <td>3.0</td>\n",
       "      <td>11.0</td>\n",
       "      <td>16.0</td>\n",
       "      <td>9.0</td>\n",
       "      <td>0.0</td>\n",
       "    </tr>\n",
       "    <tr>\n",
       "      <th>3</th>\n",
       "      <td>0.0</td>\n",
       "      <td>0.0</td>\n",
       "      <td>7.0</td>\n",
       "      <td>15.0</td>\n",
       "      <td>13.0</td>\n",
       "      <td>1.0</td>\n",
       "      <td>0.0</td>\n",
       "      <td>0.0</td>\n",
       "      <td>0.0</td>\n",
       "      <td>8.0</td>\n",
       "      <td>...</td>\n",
       "      <td>9.0</td>\n",
       "      <td>0.0</td>\n",
       "      <td>0.0</td>\n",
       "      <td>0.0</td>\n",
       "      <td>7.0</td>\n",
       "      <td>13.0</td>\n",
       "      <td>13.0</td>\n",
       "      <td>9.0</td>\n",
       "      <td>0.0</td>\n",
       "      <td>0.0</td>\n",
       "    </tr>\n",
       "    <tr>\n",
       "      <th>4</th>\n",
       "      <td>0.0</td>\n",
       "      <td>0.0</td>\n",
       "      <td>0.0</td>\n",
       "      <td>1.0</td>\n",
       "      <td>11.0</td>\n",
       "      <td>0.0</td>\n",
       "      <td>0.0</td>\n",
       "      <td>0.0</td>\n",
       "      <td>0.0</td>\n",
       "      <td>0.0</td>\n",
       "      <td>...</td>\n",
       "      <td>0.0</td>\n",
       "      <td>0.0</td>\n",
       "      <td>0.0</td>\n",
       "      <td>0.0</td>\n",
       "      <td>0.0</td>\n",
       "      <td>2.0</td>\n",
       "      <td>16.0</td>\n",
       "      <td>4.0</td>\n",
       "      <td>0.0</td>\n",
       "      <td>0.0</td>\n",
       "    </tr>\n",
       "    <tr>\n",
       "      <th>...</th>\n",
       "      <td>...</td>\n",
       "      <td>...</td>\n",
       "      <td>...</td>\n",
       "      <td>...</td>\n",
       "      <td>...</td>\n",
       "      <td>...</td>\n",
       "      <td>...</td>\n",
       "      <td>...</td>\n",
       "      <td>...</td>\n",
       "      <td>...</td>\n",
       "      <td>...</td>\n",
       "      <td>...</td>\n",
       "      <td>...</td>\n",
       "      <td>...</td>\n",
       "      <td>...</td>\n",
       "      <td>...</td>\n",
       "      <td>...</td>\n",
       "      <td>...</td>\n",
       "      <td>...</td>\n",
       "      <td>...</td>\n",
       "      <td>...</td>\n",
       "    </tr>\n",
       "    <tr>\n",
       "      <th>1792</th>\n",
       "      <td>0.0</td>\n",
       "      <td>0.0</td>\n",
       "      <td>4.0</td>\n",
       "      <td>10.0</td>\n",
       "      <td>13.0</td>\n",
       "      <td>6.0</td>\n",
       "      <td>0.0</td>\n",
       "      <td>0.0</td>\n",
       "      <td>0.0</td>\n",
       "      <td>1.0</td>\n",
       "      <td>...</td>\n",
       "      <td>4.0</td>\n",
       "      <td>0.0</td>\n",
       "      <td>0.0</td>\n",
       "      <td>0.0</td>\n",
       "      <td>2.0</td>\n",
       "      <td>14.0</td>\n",
       "      <td>15.0</td>\n",
       "      <td>9.0</td>\n",
       "      <td>0.0</td>\n",
       "      <td>0.0</td>\n",
       "    </tr>\n",
       "    <tr>\n",
       "      <th>1793</th>\n",
       "      <td>0.0</td>\n",
       "      <td>0.0</td>\n",
       "      <td>6.0</td>\n",
       "      <td>16.0</td>\n",
       "      <td>13.0</td>\n",
       "      <td>11.0</td>\n",
       "      <td>1.0</td>\n",
       "      <td>0.0</td>\n",
       "      <td>0.0</td>\n",
       "      <td>0.0</td>\n",
       "      <td>...</td>\n",
       "      <td>1.0</td>\n",
       "      <td>0.0</td>\n",
       "      <td>0.0</td>\n",
       "      <td>0.0</td>\n",
       "      <td>6.0</td>\n",
       "      <td>16.0</td>\n",
       "      <td>14.0</td>\n",
       "      <td>6.0</td>\n",
       "      <td>0.0</td>\n",
       "      <td>0.0</td>\n",
       "    </tr>\n",
       "    <tr>\n",
       "      <th>1794</th>\n",
       "      <td>0.0</td>\n",
       "      <td>0.0</td>\n",
       "      <td>1.0</td>\n",
       "      <td>11.0</td>\n",
       "      <td>15.0</td>\n",
       "      <td>1.0</td>\n",
       "      <td>0.0</td>\n",
       "      <td>0.0</td>\n",
       "      <td>0.0</td>\n",
       "      <td>0.0</td>\n",
       "      <td>...</td>\n",
       "      <td>0.0</td>\n",
       "      <td>0.0</td>\n",
       "      <td>0.0</td>\n",
       "      <td>0.0</td>\n",
       "      <td>2.0</td>\n",
       "      <td>9.0</td>\n",
       "      <td>13.0</td>\n",
       "      <td>6.0</td>\n",
       "      <td>0.0</td>\n",
       "      <td>0.0</td>\n",
       "    </tr>\n",
       "    <tr>\n",
       "      <th>1795</th>\n",
       "      <td>0.0</td>\n",
       "      <td>0.0</td>\n",
       "      <td>2.0</td>\n",
       "      <td>10.0</td>\n",
       "      <td>7.0</td>\n",
       "      <td>0.0</td>\n",
       "      <td>0.0</td>\n",
       "      <td>0.0</td>\n",
       "      <td>0.0</td>\n",
       "      <td>0.0</td>\n",
       "      <td>...</td>\n",
       "      <td>2.0</td>\n",
       "      <td>0.0</td>\n",
       "      <td>0.0</td>\n",
       "      <td>0.0</td>\n",
       "      <td>5.0</td>\n",
       "      <td>12.0</td>\n",
       "      <td>16.0</td>\n",
       "      <td>12.0</td>\n",
       "      <td>0.0</td>\n",
       "      <td>0.0</td>\n",
       "    </tr>\n",
       "    <tr>\n",
       "      <th>1796</th>\n",
       "      <td>0.0</td>\n",
       "      <td>0.0</td>\n",
       "      <td>10.0</td>\n",
       "      <td>14.0</td>\n",
       "      <td>8.0</td>\n",
       "      <td>1.0</td>\n",
       "      <td>0.0</td>\n",
       "      <td>0.0</td>\n",
       "      <td>0.0</td>\n",
       "      <td>2.0</td>\n",
       "      <td>...</td>\n",
       "      <td>8.0</td>\n",
       "      <td>0.0</td>\n",
       "      <td>0.0</td>\n",
       "      <td>1.0</td>\n",
       "      <td>8.0</td>\n",
       "      <td>12.0</td>\n",
       "      <td>14.0</td>\n",
       "      <td>12.0</td>\n",
       "      <td>1.0</td>\n",
       "      <td>0.0</td>\n",
       "    </tr>\n",
       "  </tbody>\n",
       "</table>\n",
       "<p>1797 rows × 64 columns</p>\n",
       "</div>"
      ],
      "text/plain": [
       "       0    1     2     3     4     5    6    7    8    9   ...   54   55  \\\n",
       "0     0.0  0.0   5.0  13.0   9.0   1.0  0.0  0.0  0.0  0.0  ...  0.0  0.0   \n",
       "1     0.0  0.0   0.0  12.0  13.0   5.0  0.0  0.0  0.0  0.0  ...  0.0  0.0   \n",
       "2     0.0  0.0   0.0   4.0  15.0  12.0  0.0  0.0  0.0  0.0  ...  5.0  0.0   \n",
       "3     0.0  0.0   7.0  15.0  13.0   1.0  0.0  0.0  0.0  8.0  ...  9.0  0.0   \n",
       "4     0.0  0.0   0.0   1.0  11.0   0.0  0.0  0.0  0.0  0.0  ...  0.0  0.0   \n",
       "...   ...  ...   ...   ...   ...   ...  ...  ...  ...  ...  ...  ...  ...   \n",
       "1792  0.0  0.0   4.0  10.0  13.0   6.0  0.0  0.0  0.0  1.0  ...  4.0  0.0   \n",
       "1793  0.0  0.0   6.0  16.0  13.0  11.0  1.0  0.0  0.0  0.0  ...  1.0  0.0   \n",
       "1794  0.0  0.0   1.0  11.0  15.0   1.0  0.0  0.0  0.0  0.0  ...  0.0  0.0   \n",
       "1795  0.0  0.0   2.0  10.0   7.0   0.0  0.0  0.0  0.0  0.0  ...  2.0  0.0   \n",
       "1796  0.0  0.0  10.0  14.0   8.0   1.0  0.0  0.0  0.0  2.0  ...  8.0  0.0   \n",
       "\n",
       "       56   57   58    59    60    61   62   63  \n",
       "0     0.0  0.0  6.0  13.0  10.0   0.0  0.0  0.0  \n",
       "1     0.0  0.0  0.0  11.0  16.0  10.0  0.0  0.0  \n",
       "2     0.0  0.0  0.0   3.0  11.0  16.0  9.0  0.0  \n",
       "3     0.0  0.0  7.0  13.0  13.0   9.0  0.0  0.0  \n",
       "4     0.0  0.0  0.0   2.0  16.0   4.0  0.0  0.0  \n",
       "...   ...  ...  ...   ...   ...   ...  ...  ...  \n",
       "1792  0.0  0.0  2.0  14.0  15.0   9.0  0.0  0.0  \n",
       "1793  0.0  0.0  6.0  16.0  14.0   6.0  0.0  0.0  \n",
       "1794  0.0  0.0  2.0   9.0  13.0   6.0  0.0  0.0  \n",
       "1795  0.0  0.0  5.0  12.0  16.0  12.0  0.0  0.0  \n",
       "1796  0.0  1.0  8.0  12.0  14.0  12.0  1.0  0.0  \n",
       "\n",
       "[1797 rows x 64 columns]"
      ]
     },
     "execution_count": 198,
     "metadata": {},
     "output_type": "execute_result"
    }
   ],
   "source": [
    "data = pd.DataFrame(digits.data)\n",
    "target = digits['target'].reshape(-1,1)\n",
    "target = (target == 5) + 0\n",
    "data"
   ]
  },
  {
   "cell_type": "code",
   "execution_count": 199,
   "id": "065737ed-e439-4036-85f1-5bd47d91db5f",
   "metadata": {},
   "outputs": [
    {
     "name": "stdout",
     "output_type": "stream",
     "text": [
      "(1797, 64)\n",
      "(1797, 1)\n"
     ]
    }
   ],
   "source": [
    "print(data.shape)\n",
    "print(target.shape)"
   ]
  },
  {
   "cell_type": "code",
   "execution_count": 202,
   "id": "a3a24a9b-771e-4f3a-ab65-6c86cbad1346",
   "metadata": {},
   "outputs": [
    {
     "data": {
      "image/png": "[encoded data removed]",
      "text/plain": [
       "<Figure size 432x288 with 1 Axes>"
      ]
     },
     "metadata": {
      "needs_background": "light"
     },
     "output_type": "display_data"
    }
   ],
   "source": [
    "num = 30\n",
    "images = digits.images\n",
    "example_image = images[num]\n",
    "plt.imshow(example_image, cmap=plt.get_cmap('gray'))\n",
    "plt.title(f\"digit is 5 = {target[num]}\")\n",
    "plt.show()"
   ]
  },
  {
   "cell_type": "code",
   "execution_count": 221,
   "id": "a0831fbc-61be-44cd-a8bb-a7270c55b574",
   "metadata": {},
   "outputs": [],
   "source": [
    "from sklearn.model_selection import train_test_split\n",
    "\n",
    "X_train, X_test, y_train, y_test = train_test_split(data, target, test_size=0.15, random_state=42)\n",
    "X_train = X_train.values.reshape(64,-1)\n",
    "X_test = X_test.values.reshape(64,-1)\n",
    "y_train = y_train.reshape(1, -1)\n",
    "y_test = y_test.reshape(1, -1)"
   ]
  },
  {
   "cell_type": "code",
   "execution_count": 222,
   "id": "d1bd8dbb-4fdd-40cc-a36e-e42d6fd799d3",
   "metadata": {},
   "outputs": [
    {
     "name": "stdout",
     "output_type": "stream",
     "text": [
      "(64, 1527)\n",
      "(1, 1527)\n",
      "(64, 270)\n",
      "(1, 270)\n"
     ]
    }
   ],
   "source": [
    "print(X_train.shape)\n",
    "print(y_train.shape)\n",
    "print(X_test.shape)\n",
    "print(y_test.shape)"
   ]
  },
  {
   "cell_type": "markdown",
   "id": "436708a8-63c0-4e29-8f7b-dbf032e391ed",
   "metadata": {
    "tags": []
   },
   "source": [
    "#  What is my architecture?"
   ]
  },
  {
   "cell_type": "markdown",
   "id": "57174b3d-a5fb-46a3-a25f-da05553559ba",
   "metadata": {},
   "source": [
    "|   Input Layer |  First Hidden Layer   | Second Hidden Layer   |  Output Layer  |  \n",
    "|---|:---:|---|---|\n",
    "| $$A^{[0]} = X$$                   | $$Z^{[1]} = W^{[1] } A^{[0]} + b^{[1]}$$   |  $$Z^{[2]} = W^{[2] } A^{[1]} + b^{[2]}$$   |    $$Z^{[3]} = W^{[3] } A^{[2]} + b^{[3]}$$     |\n",
    "|                                   | $$A^{[1]} = ReLU(Z^{[1]})$$                 |  $$A^{[2]} = ReLU(Z^{[2]})$$                 |    $$A^{[3]} = Sigmoid(Z^{[3]})$$                |\n",
    "| | | | \n",
    "| | | | \n",
    "| | | | \n",
    "| | | | \n",
    "|                                   | $$W^{[1]}.shape = (n_{h}^{[1]}, n_x) $$               |  $$W^{[2]}.shape = (n_{h}^{[2]}, n_{h}^{[1]}) $$               |   $$W^{[3]}.shape = (n_{y}, n_{h}^{[2]}) $$                  |\n",
    "| $$A^{[0]}.shape = (n_x, num\\_examples) $$   | $$ Z^{[1]}.shape = (n_{h}^{[1]}, num\\_examples) $$            |  $$ Z^{[2]}.shape = (n_{h}^{[2]}, num\\_examples) $$            |      $$ Z^{[3]}.shape = (n_{y}, num\\_examples) $$            |"
   ]
  },
  {
   "cell_type": "markdown",
   "id": "0d565759-9195-4e53-9ff5-a86757865fe6",
   "metadata": {
    "jp-MarkdownHeadingCollapsed": true,
    "tags": []
   },
   "source": [
    "# Теоретический материал"
   ]
  },
  {
   "cell_type": "markdown",
   "id": "a2ad3286-b583-4ca8-8863-64299bde3b41",
   "metadata": {
    "jp-MarkdownHeadingCollapsed": true,
    "tags": []
   },
   "source": [
    "## Определение\n"
   ]
  },
  {
   "cell_type": "markdown",
   "id": "e7023a55-7f29-455c-94b7-4e731a84ff75",
   "metadata": {
    "tags": []
   },
   "source": [
    "<span style=\"font-family:Papyrus; font-size:2em;\">\n",
    "    Функция $ f:\\mathbb{R}^m\\rightarrow\\mathbb{R}^n$ дифференцируема в точке $x_0$, если \n",
    "    $$f(x_0 + h) = f(x_0) + \\color{#348FEA}{\\left[D_{x_0} f \\right]} (h) + \\bar{\\bar{o}} \\left(\\left| \\left| h\\right|\\right|\\right), $$\n",
    "    где $\\color{#348FEA}{\\big[D_{x_0} f\\big]}$ - дифференциал функции $f$\n",
    "    \n",
    "</span>\n",
    "\n"
   ]
  },
  {
   "cell_type": "markdown",
   "id": "0a7338ca-9f37-4abe-82d1-8b4fd2aa67c3",
   "metadata": {
    "jp-MarkdownHeadingCollapsed": true,
    "tags": []
   },
   "source": [
    "## Градиент сложной функции\n"
   ]
  },
  {
   "cell_type": "markdown",
   "id": "577f5b21-6533-4f71-9f4b-c107adbe0f7c",
   "metadata": {},
   "source": [
    "<span style=\"font-family:Papyrus; font-size:2em;\">\n",
    "Формула производной сложной функции\n",
    "$$\\left[D_{x_0} (\\color{#5002A7}{u} \\circ \\color{#4CB9C0}{v}) \\right](h) = \\color{#5002A7}{\\left[D_{v(x_0)} u \\right]} \\left( \\color{#4CB9C0}{\\left[D_{x_0} v\\right]} (h)\\right)$$\n",
    "Пусть $f(x) = g(h(x))$, тогда\n",
    "    \n",
    "$$\\left[D_{x_0} f \\right] (x-x_0) = \\langle\\nabla_{x_0} f, x-x_0\\rangle.$$\n",
    "    \n",
    "С другой стороны,\n",
    "\n",
    "$$\\left[D_{h(x_0)} g \\right] \\left(\\left[D_{x_0}h \\right] (x-x_0)\\right) = \\langle\\nabla_{h_{x_0}} g, \\left[D_{x_0} h\\right] (x-x_0)\\rangle = \\langle\\left[D_{x_0} h\\right]^* \\nabla_{h(x_0)} g, x-x_0\\rangle.$$\n",
    "    \n",
    "То есть $\\color{#FFC100}{\\nabla_{x_0} f} = \\color{#348FEA}{\\left[D_{x_0} h \\right]}^* \\color{#FFC100}{\\nabla_{h(x_0)}}g$ - применение сопряженного к $D_{x_0} h$ линейного отображения к вектору $\\nabla_{h(x_0)} g$\n",
    "</span>\n"
   ]
  },
  {
   "cell_type": "markdown",
   "id": "747eb04a-e59d-48c6-ab89-b56aeaadba60",
   "metadata": {
    "jp-MarkdownHeadingCollapsed": true,
    "tags": []
   },
   "source": [
    "## Градиенты для типичных слоёв"
   ]
  },
  {
   "cell_type": "markdown",
   "id": "becbb98d-81e0-4e48-83d2-11e39d83edd6",
   "metadata": {
    "jp-MarkdownHeadingCollapsed": true,
    "tags": []
   },
   "source": [
    "### $f(x)=u(v(x))$ , где $x$ — вектор, а $v(x)$ – поэлементное применение $v$ $ \\;\\; \\Rightarrow \\;\\; \\color{#348FEA}{\\nabla_{x_0} f  = v'(x_0) \\odot \\left[\\nabla_{v(x_0)} u\\right]}$"
   ]
  },
  {
   "cell_type": "markdown",
   "id": "8353feb6-f06e-49fb-97ad-c68affa184f4",
   "metadata": {},
   "source": [
    "<span style=\"font-family:Papyrus; font-size:2em;\">\n",
    "\n",
    "$$v\\begin{pmatrix}\n",
    " x_1 \\\\\n",
    " \\vdots\\\\\n",
    " x_N\n",
    " \\end{pmatrix}\n",
    " = \\begin{pmatrix}\n",
    " v(x_1)\\\\\n",
    " \\vdots\\\\\n",
    " v(x_N)\n",
    " \\end{pmatrix}$$\n",
    "</span>\n"
   ]
  },
  {
   "cell_type": "markdown",
   "id": "fa80372a-c99b-44f0-9fde-20e7293aa6f2",
   "metadata": {},
   "source": [
    "<span style=\"font-family:Papyrus; font-size:2em;\">\n",
    "Тогда, как мы знаем,\n",
    "    $$\\left[D_{x_0} f\\right] (h) = \\langle\\nabla_{x_0} f, h\\rangle = \\left[\\nabla_{x_0} f\\right]^T h.$$\n",
    "    Следовательно,\n",
    "\n",
    "$$\\begin{multline*}\n",
    " \\left[D_{v(x_0)} u\\right] \\left( \\left[ D_{x_0} v\\right] (h)\\right) = \\left[\\nabla_{v(x_0)} u\\right]^T \\left(v'(x_0) \\odot h\\right)\n",
    " = \\sum\\limits_i \\left[\\nabla_{v(x_0)} u\\right]_i v'(x_{0i})h_i \n",
    " = \\langle\\left[\\nabla_{v(x_0)} u\\right] \\odot v'(x_0), h\\rangle.\n",
    " \\end{multline*},$$\n",
    "где ⊙ означает поэлементное перемножение. Окончательно получаем\n",
    "  $$\\color{#348FEA}{\\nabla_{x_0} f = \\left[\\nabla_{v(x_0)}u\\right] \\odot v'(x_0) = v'(x_0) \\odot \\left[\\nabla_{v(x_0)} u\\right]}$$\n",
    "\n",
    "    \n",
    "</span>\n"
   ]
  },
  {
   "cell_type": "markdown",
   "id": "d5f90f6e-8127-45c0-a388-764aaa8c6d5a",
   "metadata": {
    "jp-MarkdownHeadingCollapsed": true,
    "tags": []
   },
   "source": [
    "### $f(X) = g(XW)$, где $X$ и $W$ - матрицы  $ \\;\\; \\Rightarrow \\;\\; \\color{#348FEA}{\\nabla_{X_0} f = \\left[\\nabla_{X_0W} (g) \\right] \\cdot W^T}$"
   ]
  },
  {
   "cell_type": "markdown",
   "id": "69e5d213-5ac5-42a6-8aa4-8344a04fd8f9",
   "metadata": {
    "tags": []
   },
   "source": [
    "<span style=\"font-family:Papyrus; font-size:2em;\">\n",
    "\n",
    "Как мы знаем, \n",
    "    $$\\left[D_{X_0} f \\right] (X-X_0) = \\text{tr}\\, \\left(\\left[\\nabla_{X_0} f\\right]^T (X-X_0)\\right)$$\n",
    "Тогда\n",
    "    $$\\begin{multline*}\n",
    " \\left[ D_{X_0W} g \\right]  \\left(\\left[D_{X_0} \\left( \\ast W\\right)\\right] (H)\\right) = \n",
    " \\left[ D_{X_0W} g \\right]  \\left(HW\\right)=\\\\\n",
    "  = \\text{tr}\\, \\left( \\left[\\nabla_{X_0W} g \\right]^T \\cdot (H) W \\right) =\\\\\n",
    " =\n",
    "  \\text{tr} \\, \\left(W \\left[\\nabla_{X_0W} (g) \\right]^T \\cdot (H)\\right) = \\text{tr} \\, \\left( \\left[\\left[\\nabla_{X_0W} g\\right] W^T\\right]^T (H)\\right)\n",
    " \\end{multline*}$$\n",
    "\n",
    "Здесь через $\\ast W$ обозначено отображение $Y \\hookrightarrow  YW$, а в предпоследнем переходе использовалось следующее свойство следа:\n",
    "    $$\\text{tr} \\, (A B C) = \\text{tr} \\, (C A B),$$\n",
    "где $A,B,C$ — произвольные матрицы подходящих размеров (то есть допускающие перемножение в обоих приведённых порядках). Следовательно, получаем\n",
    "    $$\\color{#348FEA}{\\nabla_{X_0} f = \\left[\\nabla_{X_0W} (g) \\right] \\cdot W^T}$$\n",
    "</span>\n"
   ]
  },
  {
   "cell_type": "markdown",
   "id": "d5c8e990-d6cc-46d9-b3d5-fdcd056b3e6d",
   "metadata": {
    "jp-MarkdownHeadingCollapsed": true,
    "tags": []
   },
   "source": [
    "### $f(W) = g(XW)$, где $W$ и $X$ — матрицы $ \\;\\; \\Rightarrow \\;\\; \\color{#348FEA}{\\nabla_{X_0} f = X^T \\cdot \\left[\\nabla_{XW_0} (g)\\right]}$"
   ]
  },
  {
   "cell_type": "markdown",
   "id": "1aea2007-47c3-499e-a4c8-330ced076f72",
   "metadata": {},
   "source": [
    "<span style=\"font-family:Papyrus; font-size:2em;\">\n",
    " Для приращения $H=W−W_0$ имеем\n",
    "    $$\\left[D_{W_0} f \\right] (H) = \\text{tr} \\, \\left( \\left[\\nabla_{W_0} f \\right]^T (H)\\right)$$\n",
    "    Тогда\n",
    "    $$\\begin{multline*}\n",
    " \\left[D_{XW_0} g \\right] \\left( \\left[D_{W_0} \\left(X \\ast\\right) \\right] (H)\\right) = \\left[D_{XW_0} g \\right] \\left( XH \\right) = \\\\\n",
    " = \\text{tr} \\, \\left( \\left[\\nabla_{XW_0} g \\right]^T \\cdot X (H)\\right) =\n",
    "  \\text{tr}\\, \\left(\\left[X^T \\left[\\nabla_{XW_0} g \\right] \\right]^T (H)\\right)\n",
    " \\end{multline*}$$\n",
    "\n",
    "Здесь через $X \\ast$ обозначено отображение $Y \\hookrightarrow XY$. Значит,\n",
    "    $$\\color{#348FEA}{\\nabla_{X_0} f = X^T \\cdot \\left[\\nabla_{XW_0} (g)\\right]}$$\n",
    "    \n",
    "</span>\n"
   ]
  },
  {
   "cell_type": "code",
   "execution_count": null,
   "id": "ce8f0133-1cda-4a27-88ea-c033022676b6",
   "metadata": {},
   "outputs": [],
   "source": []
  },
  {
   "cell_type": "code",
   "execution_count": null,
   "id": "45fe57bf-bd89-4dce-8e5d-be67d1ef7db7",
   "metadata": {},
   "outputs": [],
   "source": []
  },
  {
   "cell_type": "markdown",
   "id": "512c8b7a-1b27-49c2-9b91-c300fd5a6250",
   "metadata": {
    "tags": []
   },
   "source": [
    "# How to do backward propagation in this case?\n",
    "$\\huge \\frac{\\partial \\mathcal{L}}{\\partial W^{[1]}}, \\frac{\\partial \\mathcal{L}}{\\partial b^{[1]}}, \\frac{\\partial \\mathcal{L}}{\\partial W^{[2]}} , \\frac{\\partial \\mathcal{L}}{\\partial b^{[2]}}, \\frac{\\partial \\mathcal{L}}{\\partial W^{[3]}}, \\frac{\\partial \\mathcal{L}}{\\partial b^{[3]}}?$\n"
   ]
  },
  {
   "cell_type": "markdown",
   "id": "81d35cea-d5f6-4e75-912d-136ef37f5c86",
   "metadata": {},
   "source": [
    "$$ \\Large  \\mathcal{L}(A^{[3]}, Y) = -\\frac{1}{m} \\sum_{i=1}^{m}y_i log(A^{[3]}_i) + (1 - y_i) log(1 - A^{[3]}_i) = -\\frac{1}{m}( Y^T log(A^{[3]}) + (1 - Y)^T log(1 - A^{[3]})) $$\n",
    "\n",
    "$$ \\Large  A^{[3]}= Sigmoid(Z^{[3]})$$\n",
    "\n",
    " $$ \\Large  Z^{[3]} = W^{[3] } A^{[2]} + b^{[3]}$$ \n",
    "  $$ \\Large  A^{[2]} = ReLU(Z^{[2]})$$    \n",
    "   $$ \\Large  Z^{[2]} = W^{[2] } A^{[1]} + b^{[2]}$$   \n",
    "   $$  \\Large A^{[1]} = ReLU(Z^{[1]})$$ \n",
    "   $$  \\Large  Z^{[1]} = W^{[1] } A^{[0]} + b^{[1]}$$ "
   ]
  },
  {
   "cell_type": "markdown",
   "id": "64d65ec0-b048-4e4a-b576-c140f1dbe243",
   "metadata": {
    "jp-MarkdownHeadingCollapsed": true,
    "tags": []
   },
   "source": [
    "## $\\large \\underbrace{\\frac{\\partial \\mathcal{L}}{\\partial W^{[3]}}}_{n_{y} \\times n_{h}^{[2]}} = \\frac{1}{m} \\underbrace{\\left(A^{[3]}_{0} - Y \\right)}_{n_{y} \\times m} \\underbrace{A^{[2]T}_{0}}_{m \\times n_{h}^{[2]}}$"
   ]
  },
  {
   "cell_type": "markdown",
   "id": "1232fecd-5046-4da4-95cd-597c11684849",
   "metadata": {},
   "source": [
    "$\\Large \\nabla_{W^{[3]}_{0}} \\mathcal{L}=  \\nabla_{W^{[3]}_{0}} \\left( \\mathcal{L} \\circ \\sigma \\circ \\left[W^{[3]} \\mapsto W^{[3]}A^{[2]} + b^{[3]} \\right] \\right) $\n",
    "\n",
    "$\\Large = \\nabla_{W^{[3]}_{0}A^{[2]} + b^{[3]} } \\left( \\mathcal{L} \\circ \\sigma \\right) A^{[2]T}_{0}  = $\n",
    "\n",
    "$\\Large  = \\nabla_{ Z^{[3]}_{0} } \\left( \\mathcal{L} \\circ \\sigma \\right) A^{[2]T}_{0}  = \\sigma'(Z^{[3]}_{0}) \\odot \\left[  \\nabla_{ A^{[3]}_{0} }  \\mathcal{L}  \\right] A^{[2]T}_{0} = $\n",
    "\n",
    "$\\Large = A^{[3]}_{0} \\odot (1 - A^{[3]}_{0}) \\odot \\left[ \\left(\\frac{1}{ A^{[3]}_{0}} \\odot -\\frac{1}{m}Y \\right) + \\left(\\frac{1}{1 - A^{[3]}_{0}} \\odot \\frac{1}{m}(1 - Y) \\right)    \\right] A^{[2]T}_{0}  $ \n",
    "\n",
    "$\\Large  = \\left[ \\left(1 - A^{[3]}_{0} \\odot -\\frac{1}{m}Y \\right) + \\left(A^{[3]}_{0} \\odot \\frac{1}{m}(1 - Y) \\right)    \\right] A^{[2]T}$\n",
    "\n",
    "$= \\Large \\frac{1}{m} \\left(A^{[3]}_{0} - Y \\right)A^{[2]T}_{0}$\n"
   ]
  },
  {
   "cell_type": "markdown",
   "id": "89fb8584-92fc-4d14-8a03-f85bd76a6224",
   "metadata": {
    "jp-MarkdownHeadingCollapsed": true,
    "tags": []
   },
   "source": [
    "## $\\large \\underbrace{\\frac{\\partial \\mathcal{L}}{\\partial b^{[3]}}}_{n_{y} \\times 1} = \\frac{1}{m} np.sum(\\underbrace{A^{[3]}_{0} - Y}_{n_{y} \\times m} , axis=1, keepdims=True)$  "
   ]
  },
  {
   "cell_type": "markdown",
   "id": "f6c675f2-3124-4d30-a933-f3fa14ef1183",
   "metadata": {},
   "source": [
    "$\\Large \\nabla_{b^{[3]}_{0}} \\mathcal{L}=  \\nabla_{b^{[3]}_{0}} \\left( \\mathcal{L} \\circ \\sigma \\circ \\left[b^{[3]} \\mapsto W^{[3]}A^{[2]} + b^{[3]} \\right] \\right) $\n",
    "\n",
    "$\\Large = \\nabla_{W^{[3]}_{0}A^{[2]} + b^{[3]} } \\left( \\mathcal{L} \\circ \\sigma \\right) \\mathbb{1}^T = $\n",
    "\n",
    "$\\Large  = \\nabla_{ Z^{[3]}_{0} } \\left( \\mathcal{L} \\circ \\sigma \\right) A^{[2]T}_{0}  = \\sigma'(Z^{[3]}_{0}) \\odot \\left[  \\nabla_{ A^{[3]}_{0} }  \\mathcal{L}  \\right]  \\mathbb{1}^T = $\n",
    "\n",
    "$\\Large = A^{[3]}_{0} \\odot (1 - A^{[3]}_{0}) \\odot \\left[ \\left(\\frac{1}{ A^{[3]}_{0}} \\odot -\\frac{1}{m}Y \\right) + \\left(\\frac{1}{1 - A^{[3]}_{0}} \\odot \\frac{1}{m}(1 - Y) \\right)    \\right]  \\mathbb{1}^T $ \n",
    "\n",
    "$\\Large  = \\left[ \\left(1 - A^{[3]}_{0} \\odot -\\frac{1}{m}Y \\right) + \\left(A^{[3]}_{0} \\odot \\frac{1}{m}(1 - Y) \\right)    \\right] \\mathbb{1}^T$\n",
    "\n",
    "$= \\Large \\frac{1}{m} \\left(A^{[3]}_{0} - Y \\right) \\mathbb{1}^T = \\frac{1}{m} np.sum(A^{[3]}_{0} - Y , axis=1, keepdims=True)$"
   ]
  },
  {
   "cell_type": "markdown",
   "id": "7e1de64b-23b7-4197-b401-f8e777310715",
   "metadata": {
    "jp-MarkdownHeadingCollapsed": true,
    "tags": []
   },
   "source": [
    "##  $ \\underbrace{\\frac{\\partial \\mathcal{L}}{\\partial W^{[2]}}}_{n_{h}^{[2]} \\times n_{h}^{[1]}} =  \\Large \\frac{1}{m} \\underbrace{np.heaviside(Z^{[2]}_{0}, 0)}_{n_{h}^{[2]} \\times m } \\odot \\left[\\underbrace{W^{[3]T}_{0}}_{n_{h}^{[2]}  \\times n_{y}  } \\underbrace{\\left(A^{[3]}_{0} - Y \\right)}_{n_{y} \\times m} \\right] \\underbrace{A^{[1]T}_{0}}_{m \\times n^{[1]}_{h} }$ "
   ]
  },
  {
   "cell_type": "markdown",
   "id": "10b8d53b-d9cf-40f1-a9e9-3e1a38ac8ac7",
   "metadata": {},
   "source": [
    "$\\Large \\nabla_{W^{[2]}_{0}} \\mathcal{L}=  \\nabla_{W^{[2]}_{0}} \\left( \\mathcal{L} \\circ \\sigma \\circ \\left[A^{[2]} \\mapsto W^{[3]}A^{[2]} + b^{[3]} \\right]  \\circ ReLU \\circ  \\left[W^{[2]} \\mapsto W^{[2]}A^{[1]} + b^{[2]} \\right] \\right) = $\n",
    "\n",
    "$= \\Large  \\nabla_{Z^{[2]}_{0}} \\left( \\mathcal{L} \\circ \\sigma \\circ \\left[A^{[2]} \\mapsto W^{[3]}A^{[2]} + b^{[3]} \\right]  \\circ ReLU  \\right)A^{[1]T}_{0} = $\n",
    "\n",
    "$= \\Large  np.max(0,Z^{[2]}_{0}) \\odot \\left[\\nabla_{A^{[2]}_{0}} \\left( \\mathcal{L} \\circ \\sigma \\circ \\left[A^{[2]} \\mapsto W^{[3]}A^{[2]} + b^{[3]} \\right] \\right) \\right] A^{[1]T}_{0} =$\n",
    "\n",
    "$= \\Large  np.max(0,Z^{[2]}_{0}) \\odot \\left[W^{[3]T}_{0} \\nabla_{Z^{[3]}_{0}} \\left( \\mathcal{L} \\circ \\sigma \\right) \\right] A^{[1]T}_{0} =$\n",
    "\n",
    "$= \\Large  np.max(0,Z^{[2]}_{0}) \\odot \\left[W^{[3]T}_{0} \\frac{1}{m} \\left(A^{[3]}_{0} - Y \\right) \\right] A^{[1]T}_{0}$\n",
    "\n",
    "\n"
   ]
  },
  {
   "cell_type": "markdown",
   "id": "e0d382eb-d7d5-4fa9-85b3-47a18d2d0b35",
   "metadata": {
    "jp-MarkdownHeadingCollapsed": true,
    "tags": []
   },
   "source": [
    "##  $ \\underbrace{\\frac{\\partial \\mathcal{L}}{\\partial b^{[2]}}}_{n_{h}^{[2]} \\times 1} =  \\frac{1}{m} np.sum(\\underbrace{np.heaviside(Z^{[2]}_{0}, 0)}_{n_{h}^{[2]} \\times m} \\odot \\left[\\underbrace{W^{[3]T}_{0}}_{n_{h}^{[2]}  \\times n_{y} }  \\underbrace{\\left( A^{[3]}_{0} - Y \\right)}_{n_{y} \\times m} \\right], axis = 1, keepdims=True)$"
   ]
  },
  {
   "cell_type": "markdown",
   "id": "c03b7267-bf16-47b6-8daf-e8ec8b1e7cb2",
   "metadata": {},
   "source": [
    "$\\Large \\nabla_{b^{[2]}_{0}} \\mathcal{L}=  \\nabla_{b^{[2]}_{0}} \\left( \\mathcal{L} \\circ \\sigma \\circ \\left[A^{[2]} \\mapsto W^{[3]}A^{[2]} + b^{[3]} \\right]  \\circ ReLU \\circ  \\left[b^{[2]} \\mapsto W^{[2]}A^{[1]} + b^{[2]} \\right] \\right) = $\n",
    "\n",
    "$= \\Large  \\nabla_{Z^{[2]}_{0}} \\left( \\mathcal{L} \\circ \\sigma \\circ \\left[A^{[2]} \\mapsto W^{[3]}A^{[2]} + b^{[3]} \\right]  \\circ ReLU  \\right)\\mathbb{1}^T= $\n",
    "\n",
    "$= \\Large  np.max(0,Z^{[2]}_{0}) \\odot \\left[\\nabla_{A^{[2]}_{0}} \\left( \\mathcal{L} \\circ \\sigma \\circ \\left[A^{[2]} \\mapsto W^{[3]}A^{[2]} + b^{[3]} \\right] \\right) \\right] \\mathbb{1}^T =$\n",
    "\n",
    "$= \\Large  np.max(0,Z^{[2]}_{0}) \\odot \\left[W^{[3]T}_{0} \\nabla_{Z^{[3]}_{0}} \\left( \\mathcal{L} \\circ \\sigma \\right) \\right] \\mathbb{1}^T =$\n",
    "\n",
    "$= \\Large  np.max(0,Z^{[2]}_{0}) \\odot \\left[W^{[3]T}_{0} \\frac{1}{m} \\left(A^{[3]}_{0} - Y \\right) \\right] \\mathbb{1}^T = $\n",
    "\n",
    "$ = \\Large  \\frac{1}{m} np.sum( np.max(0,Z^{[2]}_{0}) \\odot \\left[W^{[3]T}_{0} \\left(A^{[3]}_{0} - Y \\right) \\right], axis = 1, keepdims=True)$\n"
   ]
  },
  {
   "cell_type": "markdown",
   "id": "b88a95bd-7eb0-40b9-8256-7fc5371362a6",
   "metadata": {},
   "source": [
    "##  $ \\underbrace{\\frac{\\partial \\mathcal{L}}{\\partial W^{[1]}}}_{n_{h}^{[1]} \\times n_{x}} =                                                                                                             \\frac{1}{m}  \\underbrace{np.heaviside(Z^{[1]}_{0}, 0)}_{n_{h}^{[1]} \\times m } \\odot \\left[\\underbrace{W^{[2]T}_{0}}_{n_{h}^{[1]} \\times n_{h}^{[2]}} \\left[ \\underbrace{np.heaviside(Z^{[2]}_{0}, 0)}_{n_{h}^{[2]} \\times m } \\odot  \\underbrace{W^{[3]T}_{0}}_{n_{h}^{[2]} \\times n_{y}}  \\underbrace{\\left(A^{[3]}_{0} - Y \\right)}_{n_y \\times m } \\right]  \\right] \\underbrace{A^{[0]T}_{0}}_{m \\times n_x}$ "
   ]
  },
  {
   "cell_type": "markdown",
   "id": "db1aac9f-7bbe-4014-a85a-dd60e035cf69",
   "metadata": {
    "jupyter": {
     "source_hidden": true
    },
    "tags": []
   },
   "source": [
    "$\\Large \\nabla_{W^{[1]}_{0}} \\mathcal{L} =  \\nabla_{W^{[1]}_{0}} \\left( \\mathcal{L} \\circ \\sigma \\circ \\left[A^{[2]} \\mapsto W^{[3]}A^{[2]} + b^{[3]} \\right]  \\circ ReLU \\circ  \\left[A^{[1]} \\mapsto W^{[2]}A^{[1]} + b^{[2]} \\right] \\circ ReLU \\circ   \\left[W^{[1]} \\mapsto W^{[1]}A^{[0]} + b^{[1]} \\right] \\right) = $\n",
    "\n",
    "$= \\Large  \\nabla_{Z^{[1]}_{0}} \\left( \\mathcal{L} \\circ \\sigma \\circ \\left[A^{[2]} \\mapsto W^{[3]}A^{[2]} + b^{[3]} \\right]  \\circ ReLU \\circ  \\left[A^{[1]} \\mapsto W^{[2]}A^{[1]} + b^{[2]} \\right] \\circ ReLU \\right) A^{[0]T}_{0} = $\n",
    "\n",
    "$= \\Large np.max(0, Z^{[1]}_{0}) \\odot \\left[ \\nabla_{A^{[1]}_{0}} \\left( \\mathcal{L} \\circ \\sigma \\circ \\left[A^{[2]} \\mapsto W^{[3]}A^{[2]} + b^{[3]} \\right]  \\circ ReLU \\circ  \\left[A^{[1]} \\mapsto W^{[2]}A^{[1]} + b^{[2]} \\right]  \\right) \\right] A^{[0]T}_{0} =$\n",
    "\n",
    "$= \\Large np.max(0, Z^{[1]}_{0}) \\odot \\left[W^{[2]T}_{0} \\nabla_{Z^{[2]}_{0}} \\left( \\mathcal{L} \\circ \\sigma \\circ \\left[A^{[2]} \\mapsto W^{[3]}A^{[2]} + b^{[3]} \\right]  \\circ ReLU  \\right) \\right] A^{[0]T}_{0} = $\n",
    "\n",
    "$= \\Large np.max(0, Z^{[1]}_{0}) \\odot \\left[W^{[2]T}_{0}  np.max(0,Z^{[2]}_{0}) \\odot \\left[W^{[3]T}_{0} \\frac{1}{m} \\left(A^{[3]}_{0} - Y \\right) \\right]  \\right] A^{[0]T}_{0} $\n"
   ]
  },
  {
   "cell_type": "markdown",
   "id": "0d32eb43-d848-4acd-9d28-2479a6e2c825",
   "metadata": {
    "tags": []
   },
   "source": [
    "##  $ \\underbrace{\\frac{\\partial \\mathcal{L}}{\\partial b^{[1]}}}_{n_{h}^{[1]} \\times 1} =                                                                                                             \\frac{1}{m} np.sum \\left( \\underbrace{np.heaviside( Z^{[1]}_{0}, 0)}_{n_{h}^{[1]} \\times m } \\odot \\left[\\underbrace{W^{[2]T}_{0}}_{n_{h}^{[1]} \\times n_{h}^{[2]}} \\left[ \\underbrace{np.heaviside(Z^{[2]}_{0}, 0)}_{n_{h}^{[2]} \\times m } \\odot  \\underbrace{W^{[3]T}_{0}}_{n_{h}^{[2]} \\times n_{y}}  \\underbrace{\\left(A^{[3]}_{0} - Y \\right)}_{n_y \\times m } \\right]  \\right], axis=1, keepdim=True \\right)$ "
   ]
  },
  {
   "cell_type": "markdown",
   "id": "e07c2198-77c4-4793-bb3a-c9d02a942ee1",
   "metadata": {
    "tags": []
   },
   "source": [
    "# Реализация NN"
   ]
  },
  {
   "cell_type": "code",
   "execution_count": 659,
   "id": "479f3ace-0c5e-47ef-b996-373c95a671a2",
   "metadata": {},
   "outputs": [],
   "source": [
    "np.seterr(over='ignore')\n",
    "\n",
    "def ReLU(z):\n",
    "    return z * (z > 0)\n",
    "\n",
    "\n",
    "def sigmoid(z):\n",
    "    return 1 /(1 + np.exp(-z))\n",
    "\n",
    "\n",
    "def dictionary_to_vector(parameters):\n",
    "    keys = []\n",
    "    count = 0\n",
    "    for key in [\"W1\", \"b1\", \"W2\", \"b2\", \"W3\", \"b3\"]:\n",
    "        \n",
    "        # flatten parameter\n",
    "        new_vector = np.reshape(parameters[key], (-1, 1))\n",
    "        keys = keys + [key] * new_vector.shape[0]\n",
    "        \n",
    "        if count == 0:\n",
    "            theta = new_vector\n",
    "        else:\n",
    "            theta = np.concatenate((theta, new_vector), axis=0)\n",
    "        count = count + 1\n",
    "\n",
    "    return theta, keys\n",
    "\n",
    "def vector_to_dictionary(theta):\n",
    "    parameters = {}\n",
    "    parameters[\"W1\"] = theta[: 640].reshape((10, 64))\n",
    "    parameters[\"b1\"] = theta[640: 650].reshape((10, 1))\n",
    "    parameters[\"W2\"] = theta[650: 700].reshape((5, 10))\n",
    "    parameters[\"b2\"] = theta[700: 705].reshape((5, 1))\n",
    "    parameters[\"W3\"] = theta[705: 710].reshape((1, 5))\n",
    "    parameters[\"b3\"] = theta[710: 711].reshape((1, 1))\n",
    "    \n",
    "    return parameters\n",
    "\n",
    "def gradients_to_vector(gradients):\n",
    "    count = 0\n",
    "    for key in [\"dW1\", \"db1\", \"dW2\", \"db2\", \"dW3\", \"db3\"]:\n",
    "        new_vector = np.reshape(gradients[key], (-1, 1))\n",
    "        \n",
    "        if count == 0:\n",
    "            theta = new_vector\n",
    "        else:\n",
    "            theta = np.concatenate((theta, new_vector), axis=0)\n",
    "        count = count + 1\n",
    "\n",
    "    return theta\n"
   ]
  },
  {
   "cell_type": "code",
   "execution_count": 668,
   "id": "7407aa4e-1b33-4c4c-b3a5-6e25d70c99bc",
   "metadata": {},
   "outputs": [],
   "source": [
    "class NeuralNetwork:\n",
    "    def __init__(self, layers_dims):\n",
    "        self.layers_dims = layers_dims\n",
    "        \n",
    "        \n",
    "    def initialize_parameters(self):\n",
    "        W1 = np.random.randn(self.layers_dims[1], self.layers_dims[0])*0.01\n",
    "        W2 = np.random.randn(self.layers_dims[2], self.layers_dims[1])*0.01\n",
    "        W3 = np.random.randn(self.layers_dims[3], self.layers_dims[2]) *0.01\n",
    "\n",
    "        b1 = np.zeros((self.layers_dims[1], 1))\n",
    "        b2 = np.zeros((self.layers_dims[2], 1))\n",
    "        b3 = np.zeros((self.layers_dims[3], 1))\n",
    "        \n",
    "        parameters = {\"W1\": W1 , \n",
    "                      \"b1\": b1,\n",
    "                      \"W2\": W2,\n",
    "                      \"b2\": b2,\n",
    "                      \"W3\": W3, \n",
    "                      \"b3\": b3}        \n",
    "        \n",
    "        return parameters\n",
    "    \n",
    "    def forward_pass(self, X, parameters):\n",
    "        W1 = parameters['W1']\n",
    "        b1 = parameters['b1']\n",
    "        W2 = parameters['W2']\n",
    "        b2 = parameters['b2']\n",
    "        W3 = parameters['W3']\n",
    "        b3 = parameters['b3']\n",
    "        \n",
    "        \n",
    "        Z1 = np.matmul(W1, X) + b1\n",
    "        A1 = ReLU(Z1)\n",
    "        Z2 = np.matmul(W2, A1) + b2\n",
    "        A2 = ReLU(Z2)\n",
    "        Z3 = np.matmul(W3, A2) + b3\n",
    "        A3 = sigmoid(Z3)\n",
    "        \n",
    "        \n",
    "        cache = {\"Z1\": Z1, \"A1\": A1,\n",
    "                  \"Z2\": Z2, \"A2\": A2, \n",
    "                  \"Z3\": Z3, \"A3\": A3}\n",
    "        return A3, cache\n",
    "    \n",
    "    \n",
    "    def backward_pass(self, cache, parameters, X, Y):\n",
    "        Z3 = cache['Z3']\n",
    "        A3 = cache['A3']\n",
    "        Z2 = cache['Z2']\n",
    "        A2 = cache['A2']\n",
    "        Z1 = cache['Z1']\n",
    "        A1 = cache['A1']\n",
    "        \n",
    "        W1 = parameters['W1']\n",
    "        W2 = parameters['W2']\n",
    "        W3 = parameters['W3']\n",
    "        b1 = parameters['b1']\n",
    "        b2 = parameters['b2']\n",
    "        b3 = parameters['b3']\n",
    "\n",
    "        \n",
    "        m = X.shape[1]\n",
    "        \n",
    "\n",
    "        dZ3 = A3 - Y\n",
    "        dW3 = 1/m * np.matmul(dZ3, A2.T)\n",
    "        db3 = 1/m * np.sum(dZ3, axis=1, keepdims=True)\n",
    "        \n",
    "        dZ2 = np.heaviside(Z2, 0)* (np.matmul(W3.T, dZ3))\n",
    "        dW2 = 1/m * np.matmul(dZ2, A1.T)\n",
    "        db2 = 1/m * np.sum(dZ2, axis=1, keepdims=True)\n",
    "        \n",
    "        dZ1 = np.heaviside(Z1, 0) * np.matmul(W2.T ,dZ2)\n",
    "        dW1 = 1/m * np.matmul(dZ1, X.T)\n",
    "        db1 = 1/m * np.sum(dZ1, axis = 1, keepdims=True)\n",
    "        \n",
    "        \n",
    "        assert dW3.shape == W3.shape\n",
    "        assert dW2.shape == W2.shape\n",
    "        assert dW1.shape == W1.shape\n",
    "        assert db3.shape == b3.shape\n",
    "        assert db2.shape == b2.shape\n",
    "        assert db1.shape == b1.shape\n",
    "        \n",
    "        \n",
    "        gradients = {\n",
    "            \"dW3\": dW3, \"db3\": db3, \n",
    "            \"dW2\": dW2, \"db2\": db2, \n",
    "            \"dW1\":dW1,  \"db1\": db1\n",
    "        }\n",
    "        return gradients\n",
    "    \n",
    "    def update_parameters(self, parameters, gradients, learning_rate):\n",
    "        W1 = copy.deepcopy(parameters['W1'])\n",
    "        b1 = copy.deepcopy(parameters['b1'])\n",
    "        W2 = copy.deepcopy(parameters['W2'])\n",
    "        b2 = copy.deepcopy(parameters['b2'])\n",
    "        W3 = copy.deepcopy(parameters['W3'])\n",
    "        b3 = copy.deepcopy(parameters['b3'])\n",
    "        \n",
    "        dW1 = gradients['dW1']\n",
    "        db1 = gradients['db1']\n",
    "        dW2 = gradients['dW2']\n",
    "        db2 = gradients['db2']\n",
    "        dW3 = gradients['dW3']\n",
    "        db3 = gradients['db3']\n",
    "        \n",
    "        W1 = W1 - learning_rate*dW1\n",
    "        b1 = b1 - learning_rate*db1\n",
    "        W2 = W2 - learning_rate*dW2\n",
    "        b2 = b2 - learning_rate*db2\n",
    "        W3 = W3 - learning_rate*dW3\n",
    "        b3 = b3 - learning_rate*db3\n",
    "        \n",
    "        parameters = {\"W1\": W1 , \n",
    "                      \"b1\": b1,\n",
    "                      \"W2\": W2,\n",
    "                      \"b2\": b2,\n",
    "                      \"W3\": W3, \n",
    "                      \"b3\": b3}\n",
    "        return parameters\n",
    "    \n",
    "    def compute_loss(self, Y, A3):\n",
    "        m = Y.shape[1]\n",
    "        return -1/m *(np.matmul(Y, np.log(A3).T) + np.matmul((1 - Y), np.log(1 - A3).T))[0][0]\n",
    "    \n",
    "   \n",
    "    def train(self, num_iterations, X_train, y_train, X_test, y_test, print_loss=True, learning_rate=0.01):\n",
    "        parameters = self.initialize_parameters()\n",
    "        losses_train = []\n",
    "        losses_test = []\n",
    "        for i in range(num_iterations):\n",
    "            A3, cache = self.forward_pass(X_train, parameters)\n",
    "            gradients = self.backward_pass(cache, parameters, X_train, y_train)\n",
    "            parameters = self.update_parameters(parameters, gradients, learning_rate=learning_rate)\n",
    "            loss_train = self.compute_loss(y_train, A3)\n",
    "            loss_test = self.compute_loss(y_test, self.forward_pass(X_test, parameters)[0])\n",
    "            losses_train.append(loss_train)\n",
    "            losses_test.append(loss_test)\n",
    "            if print_loss and i % 500 == 0:\n",
    "                print(f\"loss_train after {i + 1} iterations = {round(loss_train,4)}\")\n",
    "        return losses_train, losses_test       \n",
    "    \n",
    "    def predict(self, parameters, x):\n",
    "        return (self.forward_pass(x, parameters)[0] < 0.5) + 0\n",
    "    \n",
    "    \n",
    "    \n",
    "    def gradient_check(self, parameters, gradients, X, Y, epsilon=1e-7, print_msg=True):\n",
    "        parameters_values, _ = dictionary_to_vector(parameters)\n",
    "        grad = gradients_to_vector(gradients)\n",
    "        num_parameters = parameters_values.shape[0]\n",
    "        J_plus = np.zeros((num_parameters, 1))\n",
    "        J_minus = np.zeros((num_parameters, 1))\n",
    "        gradapprox = np.zeros((num_parameters, 1))\n",
    "\n",
    "        for i in range(num_parameters):\n",
    "\n",
    "            theta_plus = np.copy(parameters_values)\n",
    "            theta_plus[i] = theta_plus[i] + epsilon\n",
    "            out, cache = self.forward_pass(X, vector_to_dictionary(theta_plus))\n",
    "            J_plus[i] =  self.compute_loss(Y, out)\n",
    "\n",
    "            theta_minus = np.copy(parameters_values)\n",
    "            theta_minus[i] = theta_minus[i] - epsilon\n",
    "            out, cache = self.forward_pass(X, vector_to_dictionary(theta_minus))\n",
    "            J_minus[i]= self.compute_loss(Y, out)\n",
    "\n",
    "            gradapprox[i] = (J_plus[i] - J_minus[i]) / (2*epsilon)\n",
    "\n",
    "        numerator = np.linalg.norm(grad - gradapprox)\n",
    "        denominator =  np.linalg.norm(grad) +  np.linalg.norm(gradapprox)\n",
    "        difference = numerator/denominator\n",
    "        \n",
    "        if print_msg:\n",
    "            if difference > 2e-7:\n",
    "                print (\"\\033[93m\" + \"There is a mistake in the backward propagation! difference = \" + str(difference) + \"\\033[0m\")\n",
    "            else:\n",
    "                print (\"\\033[92m\" + \"Your backward propagation works perfectly fine! difference = \" + str(difference) + \"\\033[0m\")\n",
    "\n",
    "        return difference"
   ]
  },
  {
   "cell_type": "code",
   "execution_count": 669,
   "id": "8cb8a782-81e2-488f-9a14-bd218b9edfcf",
   "metadata": {},
   "outputs": [],
   "source": [
    "NN = NeuralNetwork(layers_dims=[64, 10, 5, 1])"
   ]
  },
  {
   "cell_type": "code",
   "execution_count": 684,
   "id": "21ae8da9-cbdc-4cca-87ae-5dd43ee21e12",
   "metadata": {
    "tags": []
   },
   "outputs": [],
   "source": [
    "losses_train, losses_test = NN.train(num_iterations=2000, X_train=X_train, y_train=y_train, X_test=X_test, y_test=y_test, print_loss=False, learning_rate=0.01)"
   ]
  },
  {
   "cell_type": "code",
   "execution_count": 685,
   "id": "94e99def-0489-4723-ae19-7e8b4612aa1f",
   "metadata": {},
   "outputs": [
    {
     "name": "stdout",
     "output_type": "stream",
     "text": [
      "\u001b[92mYour backward propagation works perfectly fine! difference = 1.8316815974957075e-07\u001b[0m\n"
     ]
    }
   ],
   "source": [
    "out, cache = NN.forward_pass(X_train, parameters)\n",
    "cost = NN.compute_loss(y_train, out) \n",
    "gradients = NN.backward_pass(cache, parameters, X_train, y_train)\n",
    "difference = NN.gradient_check(parameters, gradients, X_train, y_train, 1e-7, True)"
   ]
  },
  {
   "cell_type": "code",
   "execution_count": 686,
   "id": "bfd1d5bf-2366-4012-bc3d-f3481ba16c21",
   "metadata": {},
   "outputs": [
    {
     "data": {
      "image/png": "[encoded data removed]",
      "text/plain": [
       "<Figure size 432x288 with 1 Axes>"
      ]
     },
     "metadata": {
      "needs_background": "light"
     },
     "output_type": "display_data"
    }
   ],
   "source": [
    "plt.plot(losses_train, label=\"loss_train\")\n",
    "plt.plot(losses_test,  label=\"loss_test\")\n",
    "plt.xlabel('num_iter')\n",
    "plt.ylabel('Log loss')\n",
    "plt.legend()\n",
    "plt.show()"
   ]
  },
  {
   "cell_type": "code",
   "execution_count": null,
   "id": "73827174-4ce2-4e79-9e65-d06f4080da0d",
   "metadata": {},
   "outputs": [],
   "source": []
  }
 ],
 "metadata": {
  "kernelspec": {
   "display_name": "Python 3 (ipykernel)",
   "language": "python",
   "name": "python3"
  },
  "language_info": {
   "codemirror_mode": {
    "name": "ipython",
    "version": 3
   },
   "file_extension": ".py",
   "mimetype": "text/x-python",
   "name": "python",
   "nbconvert_exporter": "python",
   "pygments_lexer": "ipython3",
   "version": "3.10.4"
  }
 },
 "nbformat": 4,
 "nbformat_minor": 5
}
